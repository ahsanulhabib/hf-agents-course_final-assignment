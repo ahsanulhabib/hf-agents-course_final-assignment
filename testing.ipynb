{
 "cells": [
  {
   "cell_type": "code",
   "execution_count": 27,
   "id": "812a2358",
   "metadata": {},
   "outputs": [],
   "source": [
    "import google.generativeai as genai\n",
    "import io\n",
    "import os\n",
    "from dotenv import load_dotenv\n",
    "from langchain_core.messages import HumanMessage\n",
    "import base64\n",
    "from langchain_google_genai import ChatGoogleGenerativeAI\n",
    "from pathlib import Path\n",
    "from PIL import Image\n",
    "from typing import Optional"
   ]
  },
  {
   "cell_type": "code",
   "execution_count": 29,
   "id": "3e241d1d",
   "metadata": {},
   "outputs": [],
   "source": [
    "def extract_text_from_image(\n",
    "    image_path: str,\n",
    "    prompt: Optional[str] = \"Extract all readable text from this image.\",\n",
    "    api_key: Optional[str] = None\n",
    ") -> str:\n",
    "    \"\"\"\n",
    "    Extract text from an image using Gemini 2.5 Pro Vision multimodal capabilities via LangChain.\n",
    "\n",
    "    Args:\n",
    "        image_path (str): Path to the image file.\n",
    "        prompt (str): Prompt to guide Gemini in extracting text.\n",
    "        api_key (str): Your Google API key with Gemini access.\n",
    "\n",
    "    Returns:\n",
    "        str: Extracted text response from Gemini.\n",
    "    \"\"\"\n",
    "\n",
    "\n",
    "    with Image.open(image_path) as img:\n",
    "        img_bytes = io.BytesIO()\n",
    "        img.save(img_bytes, format=\"PNG\")\n",
    "        img_bytes.seek(0)\n",
    "        image_base64 = base64.b64encode(img_bytes.read()).decode(\"utf-8\")\n",
    "\n",
    "        message = [\n",
    "        HumanMessage(\n",
    "            content=[\n",
    "                {\n",
    "                    \"type\": \"text\",\n",
    "                    \"text\": (\n",
    "                        \"Extract all the text from this image. \"\n",
    "                        \"Return only the extracted text, no explanations.\"\n",
    "                    ),\n",
    "                },\n",
    "                {\n",
    "                    \"type\": \"image_url\",\n",
    "                    \"image_url\": {\n",
    "                        \"url\": f\"data:image/png;base64,{image_base64}\"\n",
    "                    },\n",
    "                },\n",
    "            ]\n",
    "        )\n",
    "    ]\n",
    "    if api_key is None:\n",
    "        raise ValueError(\"You must provide a Google Gemini API key.\")\n",
    "\n",
    "    llm = ChatGoogleGenerativeAI(\n",
    "        model=\"gemini-2.5-pro-exp-03-25\",\n",
    "        google_api_key=api_key,\n",
    "        convert_system_message_to_human=True,\n",
    "    )\n",
    "\n",
    "    response = llm.invoke(message)\n",
    "\n",
    "    return response.content if hasattr(response, \"content\") else str(response)\n"
   ]
  },
  {
   "cell_type": "code",
   "execution_count": null,
   "id": "095f1f6e",
   "metadata": {},
   "outputs": [],
   "source": [
    "IMAGE_PATH = \".\\\\src\\\\gaia_test\\\\data\\\\sample_ocr_image.png\"\n",
    "GOOGLE_API_KEY = \"your-google-api-key\"\n",
    "\n",
    "# List available models to debug the error\n",
    "models = genai.list_models()\n",
    "print(\"Available models:\")\n",
    "for model in models:\n",
    "    print(model.name)"
   ]
  },
  {
   "cell_type": "code",
   "execution_count": 30,
   "id": "feda88fa",
   "metadata": {},
   "outputs": [
    {
     "name": "stderr",
     "output_type": "stream",
     "text": [
      "c:\\Users\\ahabib\\OneDrive - Aged Care Quality and Safety Commission\\Documents\\Projects\\Codes\\AgenticWorkflow\\hf-agents-course_final-assignment\\.venv\\Lib\\site-packages\\langchain_google_genai\\chat_models.py:357: UserWarning: Convert_system_message_to_human will be deprecated!\n",
      "  warnings.warn(\"Convert_system_message_to_human will be deprecated!\")\n"
     ]
    },
    {
     "name": "stdout",
     "output_type": "stream",
     "text": [
      "Extracted Text:\n",
      " Lorem ips's deplace\n",
      "-Lorem,-ipsum dolor sit as a consectindiarm, consectresum, indisim\n",
      "incildis me dolore-illant, quis appristenched labor, filsit in labor\n",
      "magna, amil jouri paratum.\n",
      "-A em-sim, occasentdis tempar cublling dota, consentables\n",
      "noisucle disfirycliplor vise, ant Emadisalitais sild befure posscat\n",
      "in at depececting hlis molcicat, tempers desforentius lean compdntr,\n",
      "for the magnants thic procedients.\n",
      "-A at perfermtimg the llaventor ate.\n",
      "-A perum dutis may minim placere, et culdnt, blals, temporam places\n",
      "vollurat paceal supper the diffectates, quis,\n",
      "caperour decinsum on the offpeate maginam.\n"
     ]
    }
   ],
   "source": [
    "text = extract_text_from_image(IMAGE_PATH, api_key=GOOGLE_API_KEY)\n",
    "print(\"Extracted Text:\\n\", text)"
   ]
  }
 ],
 "metadata": {
  "kernelspec": {
   "display_name": ".venv",
   "language": "python",
   "name": "python3"
  },
  "language_info": {
   "codemirror_mode": {
    "name": "ipython",
    "version": 3
   },
   "file_extension": ".py",
   "mimetype": "text/x-python",
   "name": "python",
   "nbconvert_exporter": "python",
   "pygments_lexer": "ipython3",
   "version": "3.12.9"
  }
 },
 "nbformat": 4,
 "nbformat_minor": 5
}
